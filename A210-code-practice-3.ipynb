{
 "cells": [
  {
   "cell_type": "markdown",
   "metadata": {},
   "source": [
    "# A2.10 - Code Practice III\n",
    ">\n",
    "> If Statements\n",
    ">"
   ]
  },
  {
   "cell_type": "code",
   "execution_count": null,
   "metadata": {},
   "outputs": [],
   "source": [
    "# Create an if statement with at least:\n",
    "# 1. declare a variable\n",
    "# 2. if statement\n",
    "# 3. elif statement\n",
    "# 4. else statement"
   ]
  },
  {
   "cell_type": "code",
   "execution_count": 1,
   "metadata": {},
   "outputs": [
    {
     "name": "stdout",
     "output_type": "stream",
     "text": [
      "uwu Im sowwy\n"
     ]
    }
   ],
   "source": [
    "var = \"uwu\"\n",
    "\n",
    "if var == \"owo\":\n",
    "    print(\"Willowo\")\n",
    "elif var == \"uwu\":\n",
    "    print(\"uwu Im sowwy\")\n",
    "else:\n",
    "    print(\"Christopher is a hater\")"
   ]
  },
  {
   "cell_type": "code",
   "execution_count": 9,
   "metadata": {},
   "outputs": [
    {
     "name": "stdout",
     "output_type": "stream",
     "text": [
      "DILUC!!\n"
     ]
    }
   ],
   "source": [
    "# Practice Below and Create at Least 4 if statments\n",
    "var1 = \"diluc\"\n",
    "\n",
    "if var1 == \"qiqi\":\n",
    "    print(\"baby\")\n",
    "elif var1 == \"mona\":\n",
    "    print(\"awooga\")\n",
    "elif var1 == \"diluc\":\n",
    "    print(\"DILUC!!\")\n",
    "elif var1 == \"keqing\":\n",
    "    print(\"cash money\")\n",
    "elif var1 == \"jean\":\n",
    "    print(\"anemo mommy\")\n",
    "else:\n",
    "    print(\"won the 50/50!\")"
   ]
  },
  {
   "cell_type": "code",
   "execution_count": 10,
   "metadata": {},
   "outputs": [
    {
     "name": "stdout",
     "output_type": "stream",
     "text": [
      "imagine not having kazuha\n"
     ]
    }
   ],
   "source": [
    "var2 = \"willow\"\n",
    "\n",
    "if var2 == \"willow\":\n",
    "    print(\"imagine not having kazuha\")\n",
    "elif var2 == \"ash\":\n",
    "    print(\"imagine being short\")\n",
    "elif var2 == \"jay\":\n",
    "    print(\"he doesnt know anything about me and honestly it really hurts my feelings\")\n",
    "elif var2 == \"christopher\":\n",
    "    print(\"hes not very pactful\")\n",
    "elif var2 == \"claire\":\n",
    "    print(\"woman lover\")\n",
    "else:\n",
    "    print(\"meh\")"
   ]
  },
  {
   "cell_type": "code",
   "execution_count": 8,
   "metadata": {},
   "outputs": [
    {
     "name": "stdout",
     "output_type": "stream",
     "text": [
      "cat\n"
     ]
    }
   ],
   "source": [
    "var3 = \"navi\"\n",
    "\n",
    "if var3 == \"navi\":\n",
    "    print(\"cat\")\n",
    "elif var3 == \"oliver\":\n",
    "    print(\"cat\")\n",
    "elif var3 == \"doodle\":\n",
    "    print(\"dog\")\n",
    "else:\n",
    "    print(\"idk\")"
   ]
  },
  {
   "cell_type": "code",
   "execution_count": 11,
   "metadata": {},
   "outputs": [
    {
     "name": "stdout",
     "output_type": "stream",
     "text": [
      "stupid meanie pants\n"
     ]
    }
   ],
   "source": [
    "var4 = \"christopher\"\n",
    "\n",
    "if var4 == \"christopher\":\n",
    "    print(\"stupid meanie pants\")\n",
    "else: \n",
    "    print(\"youre alright\")"
   ]
  }
 ],
 "metadata": {
  "kernelspec": {
   "display_name": "Python 3.9.12 ('base')",
   "language": "python",
   "name": "python3"
  },
  "language_info": {
   "codemirror_mode": {
    "name": "ipython",
    "version": 3
   },
   "file_extension": ".py",
   "mimetype": "text/x-python",
   "name": "python",
   "nbconvert_exporter": "python",
   "pygments_lexer": "ipython3",
   "version": "3.9.12"
  },
  "orig_nbformat": 4,
  "vscode": {
   "interpreter": {
    "hash": "6a5e55def17b26e2ceed44658a3f1130fe9382ee58c1ac637d935f01a167c55c"
   }
  }
 },
 "nbformat": 4,
 "nbformat_minor": 2
}
