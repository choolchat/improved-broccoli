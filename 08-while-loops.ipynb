{
 "cells": [
  {
   "cell_type": "markdown",
   "metadata": {},
   "source": [
    "# 08 - While Loops\n",
    "> From W3Schools:\n",
    ">\n",
    "> \"With the `while` loop we can execute a set of statements as long as a condition is true.\""
   ]
  },
  {
   "cell_type": "markdown",
   "metadata": {},
   "source": [
    "### Video and Notes:\n",
    "> Video: https://www.youtube.com/watch?v=dHANJ4l6fwA\n",
    ">\n",
    "> Notes: https://www.w3schools.com/python/python_while_loops.asp"
   ]
  },
  {
   "cell_type": "markdown",
   "metadata": {},
   "source": [
    "## To Complete Your Notes:\n",
    "1. Watch the video.\n",
    "2. Review the Notes above.\n",
    "3. Copy the `while` loops from W3Schools below\n",
    "4. Create your own `while` loops below"
   ]
  },
  {
   "cell_type": "markdown",
   "metadata": {},
   "source": [
    "### 3. Copy the `while` loops from W3Schools below"
   ]
  },
  {
   "cell_type": "code",
   "execution_count": 2,
   "metadata": {},
   "outputs": [
    {
     "name": "stdout",
     "output_type": "stream",
     "text": [
      "In this loop, yo\n",
      "Out of the loop, again\n"
     ]
    }
   ],
   "source": [
    "# Example 1\n",
    "\n",
    "somebool = True\n",
    "\n",
    "while somebool:\n",
    "    print(\"In this loop, yo\")\n",
    "    somebool = False\n",
    "print(\"Out of the loop, again\")"
   ]
  },
  {
   "cell_type": "code",
   "execution_count": 1,
   "metadata": {},
   "outputs": [
    {
     "name": "stdout",
     "output_type": "stream",
     "text": [
      "1\n",
      "2\n",
      "3\n",
      "4\n",
      "5\n"
     ]
    }
   ],
   "source": [
    "# The `while` loop\n",
    "i = 1\n",
    "while i < 6:\n",
    "  print(i)\n",
    "  i += 1"
   ]
  },
  {
   "cell_type": "code",
   "execution_count": 3,
   "metadata": {},
   "outputs": [
    {
     "name": "stdout",
     "output_type": "stream",
     "text": [
      "1\n",
      "2\n",
      "3\n"
     ]
    }
   ],
   "source": [
    "# The `break` statement\n",
    "i = 1\n",
    "while i < 6:\n",
    "  print(i)\n",
    "  if i == 3:\n",
    "    break\n",
    "  i += 1"
   ]
  },
  {
   "cell_type": "code",
   "execution_count": 2,
   "metadata": {},
   "outputs": [
    {
     "name": "stdout",
     "output_type": "stream",
     "text": [
      "1\n",
      "2\n",
      "4\n",
      "5\n",
      "6\n"
     ]
    }
   ],
   "source": [
    "# The `continue` statement\n",
    "i = 0\n",
    "while i < 6:\n",
    "  i += 1\n",
    "  if i == 3:\n",
    "    continue\n",
    "  print(i)"
   ]
  },
  {
   "cell_type": "code",
   "execution_count": 3,
   "metadata": {},
   "outputs": [
    {
     "name": "stdout",
     "output_type": "stream",
     "text": [
      "1\n",
      "2\n",
      "3\n",
      "4\n",
      "5\n",
      "i is no longer less than 6\n"
     ]
    }
   ],
   "source": [
    "# The `else` statement\n",
    "i = 1\n",
    "while i < 6:\n",
    "  print(i)\n",
    "  i += 1\n",
    "else:\n",
    "  print(\"i is no longer less than 6\")"
   ]
  },
  {
   "cell_type": "markdown",
   "metadata": {},
   "source": [
    "### 4. Create your own `while` loops below.\n",
    "> Please create your own `while` loops.\n",
    ">\n",
    "> Please create at least three different `while` loops.\n",
    ">\n",
    "> Try and use different techniques from this lesson and the lessons before."
   ]
  },
  {
   "cell_type": "code",
   "execution_count": 5,
   "metadata": {},
   "outputs": [
    {
     "name": "stdout",
     "output_type": "stream",
     "text": [
      "Im panicing\n",
      "help\n",
      "\n",
      "\n"
     ]
    }
   ],
   "source": [
    "# Example Loop\n",
    "count = 0\n",
    "mybool = True\n",
    "secrets = {}\n",
    "\n",
    "while mybool:\n",
    "    secrets[count] = input(\"Tell me a secret: \")\n",
    "    count += 1\n",
    "    if count > 3:\n",
    "        mybool = False\n",
    "\n",
    "for key in secrets:\n",
    "    print(secrets[key])"
   ]
  },
  {
   "cell_type": "code",
   "execution_count": 10,
   "metadata": {},
   "outputs": [
    {
     "name": "stdout",
     "output_type": "stream",
     "text": [
      "1\n",
      "2\n",
      "3\n"
     ]
    }
   ],
   "source": [
    "# First Loop\n",
    "\n",
    "moo = 1\n",
    "\n",
    "while moo != 4:\n",
    "    print(moo)\n",
    "    moo = moo + 1\n",
    "\n",
    "\n"
   ]
  },
  {
   "cell_type": "code",
   "execution_count": 12,
   "metadata": {},
   "outputs": [
    {
     "name": "stdout",
     "output_type": "stream",
     "text": [
      "no\n",
      "no\n",
      "no\n",
      "no\n",
      "no\n",
      "no\n",
      "no\n",
      "no\n"
     ]
    }
   ],
   "source": [
    "# Second Loop\n",
    "\n",
    "Ash = 0\n",
    "\n",
    "while Ash < 8:\n",
    "    print(\"no\")\n",
    "    if Ash < 8:\n",
    "        Ash = Ash + 1\n",
    "\n",
    "#this took me an embarrassingly long time to figure out how to stop it from saying no forever\n"
   ]
  },
  {
   "cell_type": "code",
   "execution_count": 21,
   "metadata": {},
   "outputs": [
    {
     "name": "stdout",
     "output_type": "stream",
     "text": [
      "419\n",
      "418\n",
      "417\n",
      "416\n",
      "415\n"
     ]
    }
   ],
   "source": [
    "# Third Loop\n",
    "teletubbies = 420\n",
    "\n",
    "while teletubbies > 415:\n",
    "     teletubbies = teletubbies - 1\n",
    "     print(teletubbies)\n",
    "\n"
   ]
  },
  {
   "cell_type": "code",
   "execution_count": null,
   "metadata": {},
   "outputs": [],
   "source": [
    "\"\"\"For extra credit: try and create a `while` loop that uses the Random module\n",
    "to generate random numbers within a range of integers and breaks away when a certain\n",
    "integer is returned. Then print out the number of loops that occurred.\"\"\"\n",
    "\n",
    "import random\n"
   ]
  }
 ],
 "metadata": {
  "kernelspec": {
   "display_name": "Python 3.9.12 ('base')",
   "language": "python",
   "name": "python3"
  },
  "language_info": {
   "codemirror_mode": {
    "name": "ipython",
    "version": 3
   },
   "file_extension": ".py",
   "mimetype": "text/x-python",
   "name": "python",
   "nbconvert_exporter": "python",
   "pygments_lexer": "ipython3",
   "version": "3.9.12"
  },
  "orig_nbformat": 4,
  "vscode": {
   "interpreter": {
    "hash": "6a5e55def17b26e2ceed44658a3f1130fe9382ee58c1ac637d935f01a167c55c"
   }
  }
 },
 "nbformat": 4,
 "nbformat_minor": 2
}
