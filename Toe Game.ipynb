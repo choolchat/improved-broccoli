{
 "cells": [
  {
   "cell_type": "code",
   "execution_count": 8,
   "metadata": {},
   "outputs": [
    {
     "name": "stdout",
     "output_type": "stream",
     "text": [
      "_ _ _ \n",
      "_ _ _ \n",
      "_ _ _ \n"
     ]
    }
   ],
   "source": [
    "b1 = [\"_\", \"_\", \"_\",]\n",
    "b2 = [\"_\", \"_\", \"_\",]\n",
    "b3 = [\"_\", \"_\", \"_\",]\n",
    "b = [b1, b2, b3]\n",
    "\n",
    "#printing board v\n",
    "for r in b:\n",
    "    for c in r:\n",
    "        print(c,end = \" \")\n",
    "    print ()"
   ]
  },
  {
   "cell_type": "code",
   "execution_count": 2,
   "metadata": {},
   "outputs": [],
   "source": [
    "#making printing board a function \n",
    "def print_board(board):\n",
    "    for r in board:\n",
    "        for c in r:\n",
    "            print(c,end = \" \")\n",
    "        print ()"
   ]
  },
  {
   "cell_type": "code",
   "execution_count": 3,
   "metadata": {},
   "outputs": [
    {
     "name": "stdout",
     "output_type": "stream",
     "text": [
      "_ _ _ \n",
      "_ _ _ \n",
      "_ _ _ \n"
     ]
    }
   ],
   "source": [
    "#just testing it\n",
    "print_board(b)"
   ]
  },
  {
   "cell_type": "code",
   "execution_count": 31,
   "metadata": {},
   "outputs": [],
   "source": [
    "#clear board\n",
    "def clear_board():\n",
    "    r1 = [\"_\", \"_\", \"_\",]\n",
    "    r2 = [\"_\", \"_\", \"_\",]\n",
    "    r3 = [\"_\", \"_\", \"_\",]\n",
    "    return [r1, r2, r3]"
   ]
  },
  {
   "cell_type": "code",
   "execution_count": 32,
   "metadata": {},
   "outputs": [
    {
     "name": "stdout",
     "output_type": "stream",
     "text": [
      "_ _ _ \n",
      "_ _ _ \n",
      "_ _ _ \n"
     ]
    }
   ],
   "source": [
    "#testing it\n",
    "b2 = clear_board()\n",
    "\n",
    "print_board(b2)"
   ]
  },
  {
   "cell_type": "code",
   "execution_count": 4,
   "metadata": {},
   "outputs": [],
   "source": [
    "#X's turn function \n",
    "def Xturn(b):\n",
    "    row = input(\"what row do you want to put your X:\")\n",
    "    col = input(\"what column do you want to put your X:\")\n",
    "    b[int(row)][int(col)] = \"X\""
   ]
  },
  {
   "cell_type": "code",
   "execution_count": 6,
   "metadata": {},
   "outputs": [
    {
     "ename": "TypeError",
     "evalue": "'str' object does not support item assignment",
     "output_type": "error",
     "traceback": [
      "\u001b[0;31m---------------------------------------------------------------------------\u001b[0m",
      "\u001b[0;31mTypeError\u001b[0m                                 Traceback (most recent call last)",
      "\u001b[1;32m/Users/aniela/Downloads/Toe Game.ipynb Cell 7\u001b[0m in \u001b[0;36m<cell line: 2>\u001b[0;34m()\u001b[0m\n\u001b[1;32m      <a href='vscode-notebook-cell:/Users/aniela/Downloads/Toe%20Game.ipynb#W6sZmlsZQ%3D%3D?line=0'>1</a>\u001b[0m \u001b[39m#testing it\u001b[39;00m\n\u001b[0;32m----> <a href='vscode-notebook-cell:/Users/aniela/Downloads/Toe%20Game.ipynb#W6sZmlsZQ%3D%3D?line=1'>2</a>\u001b[0m Xturn(b2)\n\u001b[1;32m      <a href='vscode-notebook-cell:/Users/aniela/Downloads/Toe%20Game.ipynb#W6sZmlsZQ%3D%3D?line=2'>3</a>\u001b[0m print_board(b2)\n",
      "\u001b[1;32m/Users/aniela/Downloads/Toe Game.ipynb Cell 7\u001b[0m in \u001b[0;36mXturn\u001b[0;34m(b)\u001b[0m\n\u001b[1;32m      <a href='vscode-notebook-cell:/Users/aniela/Downloads/Toe%20Game.ipynb#W6sZmlsZQ%3D%3D?line=2'>3</a>\u001b[0m row \u001b[39m=\u001b[39m \u001b[39minput\u001b[39m(\u001b[39m\"\u001b[39m\u001b[39mwhat row do you want to put your X:\u001b[39m\u001b[39m\"\u001b[39m)\n\u001b[1;32m      <a href='vscode-notebook-cell:/Users/aniela/Downloads/Toe%20Game.ipynb#W6sZmlsZQ%3D%3D?line=3'>4</a>\u001b[0m col \u001b[39m=\u001b[39m \u001b[39minput\u001b[39m(\u001b[39m\"\u001b[39m\u001b[39mwhat column do you want to put your X:\u001b[39m\u001b[39m\"\u001b[39m)\n\u001b[0;32m----> <a href='vscode-notebook-cell:/Users/aniela/Downloads/Toe%20Game.ipynb#W6sZmlsZQ%3D%3D?line=4'>5</a>\u001b[0m b[\u001b[39mint\u001b[39m(row)][\u001b[39mint\u001b[39m(col)] \u001b[39m=\u001b[39m \u001b[39m\"\u001b[39m\u001b[39mX\u001b[39m\u001b[39m\"\u001b[39m\n",
      "\u001b[0;31mTypeError\u001b[0m: 'str' object does not support item assignment"
     ]
    }
   ],
   "source": [
    "#testing it \n",
    "#doesn't work for some reason\n",
    "Xturn(b2)\n",
    "print_board(b2)"
   ]
  },
  {
   "cell_type": "code",
   "execution_count": 61,
   "metadata": {},
   "outputs": [],
   "source": [
    "#O's turn \n",
    "def Oturn(b):\n",
    "    row = input(\"what row do you want to put your O:\")\n",
    "    col = input(\"what column do you want to put your O:\")\n",
    "    b[int(row)][int(col)] = \"O\""
   ]
  },
  {
   "cell_type": "code",
   "execution_count": 62,
   "metadata": {},
   "outputs": [
    {
     "name": "stdout",
     "output_type": "stream",
     "text": [
      "_ O _ \n",
      "_ _ X \n",
      "_ _ _ \n"
     ]
    }
   ],
   "source": [
    "#testing it\n",
    "Oturn(b2)\n",
    "print_board(b2)"
   ]
  },
  {
   "cell_type": "code",
   "execution_count": null,
   "metadata": {},
   "outputs": [],
   "source": [
    "#for the end game do a while loop  (while ____ x and y have  turns, else nothing?)\n",
    "\n",
    "#"
   ]
  }
 ],
 "metadata": {
  "kernelspec": {
   "display_name": "Python 3.9.12 ('base')",
   "language": "python",
   "name": "python3"
  },
  "language_info": {
   "codemirror_mode": {
    "name": "ipython",
    "version": 3
   },
   "file_extension": ".py",
   "mimetype": "text/x-python",
   "name": "python",
   "nbconvert_exporter": "python",
   "pygments_lexer": "ipython3",
   "version": "3.9.12"
  },
  "orig_nbformat": 4,
  "vscode": {
   "interpreter": {
    "hash": "6a5e55def17b26e2ceed44658a3f1130fe9382ee58c1ac637d935f01a167c55c"
   }
  }
 },
 "nbformat": 4,
 "nbformat_minor": 2
}
