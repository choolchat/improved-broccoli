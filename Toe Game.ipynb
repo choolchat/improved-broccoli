{
 "cells": [
  {
   "cell_type": "code",
   "execution_count": 23,
   "metadata": {},
   "outputs": [
    {
     "name": "stdout",
     "output_type": "stream",
     "text": [
      "_ _ _ \n",
      "_ _ _ \n",
      "_ _ _ \n"
     ]
    }
   ],
   "source": [
    "b1 = [\"_\", \"_\", \"_\",]\n",
    "b2 = [\"_\", \"_\", \"_\",]\n",
    "b3 = [\"_\", \"_\", \"_\",]\n",
    "b = [b1, b2, b3]\n",
    "\n",
    "#printing board\n",
    "#most of this is to make the three rows on top of each other \n",
    "#dbh I dont remember how, I googled it and forgot what I learned\n",
    "for r in b:\n",
    "    for c in r:\n",
    "        print(c,end = \" \")\n",
    "    print ()"
   ]
  },
  {
   "cell_type": "code",
   "execution_count": 33,
   "metadata": {},
   "outputs": [],
   "source": [
    "#making printing board a function \n",
    "def give_board(board):\n",
    "    for r in board:\n",
    "        for c in r:\n",
    "            print(c,end = \" \")\n",
    "        print ()\n",
    "    print ()\n",
    "    print ()"
   ]
  },
  {
   "cell_type": "code",
   "execution_count": 25,
   "metadata": {},
   "outputs": [
    {
     "name": "stdout",
     "output_type": "stream",
     "text": [
      "_ _ _ \n",
      "_ _ _ \n",
      "_ _ _ \n"
     ]
    }
   ],
   "source": [
    "#just testing it\n",
    "give_board(b)"
   ]
  },
  {
   "cell_type": "code",
   "execution_count": 26,
   "metadata": {},
   "outputs": [],
   "source": [
    "#how i clear the board\n",
    "def clear_board():\n",
    "    r1 = [\"_\", \"_\", \"_\",]\n",
    "    r2 = [\"_\", \"_\", \"_\",]\n",
    "    r3 = [\"_\", \"_\", \"_\",]\n",
    "    return [r1, r2, r3]"
   ]
  },
  {
   "cell_type": "code",
   "execution_count": 27,
   "metadata": {},
   "outputs": [
    {
     "name": "stdout",
     "output_type": "stream",
     "text": [
      "_ _ _ \n",
      "_ _ _ \n",
      "_ _ _ \n"
     ]
    }
   ],
   "source": [
    "#testing it\n",
    "b2 = clear_board()\n",
    "\n",
    "give_board(b2)"
   ]
  },
  {
   "cell_type": "code",
   "execution_count": 16,
   "metadata": {},
   "outputs": [],
   "source": [
    "#I would like to re-lable the col and row to be just the numbers 0-8"
   ]
  },
  {
   "cell_type": "code",
   "execution_count": 28,
   "metadata": {},
   "outputs": [],
   "source": [
    "#X's turn function \n",
    "def Xturn(b):\n",
    "    row = input(\"what row do you want to put your X:\")\n",
    "    col = input(\"what column do you want to put your X:\")\n",
    "    #if row not in [\"0\", \"1\", \"2\"]: continue (put this in once in a while loop)\n",
    "    b[int(row)][int(col)] = \"X\""
   ]
  },
  {
   "cell_type": "code",
   "execution_count": 10,
   "metadata": {},
   "outputs": [
    {
     "name": "stdout",
     "output_type": "stream",
     "text": [
      "_ _ _ \n",
      "_ _ _ \n",
      "_ _ X \n"
     ]
    }
   ],
   "source": [
    "#testing it \n",
    "Xturn(b2)\n",
    "give_board(b2)"
   ]
  },
  {
   "cell_type": "code",
   "execution_count": 29,
   "metadata": {},
   "outputs": [],
   "source": [
    "#O's turn \n",
    "def Oturn(b):\n",
    "    row = input(\"what row do you want to put your O:\")\n",
    "    col = input(\"what column do you want to put your O:\")\n",
    "    b[int(row)][int(col)] = \"O\""
   ]
  },
  {
   "cell_type": "code",
   "execution_count": 19,
   "metadata": {},
   "outputs": [
    {
     "name": "stdout",
     "output_type": "stream",
     "text": [
      "_ _ _ \n",
      "_ O _ \n",
      "_ _ _ \n"
     ]
    }
   ],
   "source": [
    "#testing it\n",
    "Oturn(b2)\n",
    "give_board(b2)"
   ]
  },
  {
   "cell_type": "code",
   "execution_count": 30,
   "metadata": {},
   "outputs": [],
   "source": [
    "def Xwins(b):\n",
    "    ((b[0][0] == \"X\" and b[0][1] == \"X\" and b[0][2] == \"X\") or \n",
    "     (b[1][0] == \"X\" and b[1][1] == \"X\" and b[1][2] == \"X\") or\n",
    "     (b[2][0] == \"X\" and b[2][1] == \"X\" and b[2][2] == \"X\") or\n",
    "     (b[0][0] == \"X\" and b[1][0] == \"X\" and b[2][0] == \"X\") or\n",
    "     (b[0][1] == \"X\" and b[1][1] == \"X\" and b[2][1] == \"X\") or\n",
    "     (b[0][2] == \"X\" and b[1][2] == \"X\" and b[2][2] == \"X\") or\n",
    "     (b[0][0] == \"X\" and b[1][1] == \"X\" and b[2][2] == \"X\") or\n",
    "     (b[0][2] == \"X\" and b[1][1] == \"X\" and b[2][0] == \"X\"))\n",
    "\n",
    "def Owins(b):\n",
    "    ((b[0][0] == \"O\" and b[0][1] == \"O\" and b[0][2] == \"O\") or \n",
    "     (b[1][0] == \"O\" and b[1][1] == \"O\" and b[1][2] == \"O\") or\n",
    "     (b[2][0] == \"O\" and b[2][1] == \"O\" and b[2][2] == \"O\") or\n",
    "     (b[0][0] == \"O\" and b[1][0] == \"O\" and b[2][0] == \"O\") or\n",
    "     (b[0][1] == \"O\" and b[1][1] == \"O\" and b[2][1] == \"O\") or\n",
    "     (b[0][2] == \"O\" and b[1][2] == \"O\" and b[2][2] == \"O\") or\n",
    "     (b[0][0] == \"O\" and b[1][1] == \"O\" and b[2][2] == \"O\") or\n",
    "     (b[0][2] == \"O\" and b[1][1] == \"O\" and b[2][0] == \"O\"))\n",
    "def game_over(b):\n",
    "    Xwins(b) or Owins(b) or tie(b)"
   ]
  },
  {
   "cell_type": "code",
   "execution_count": null,
   "metadata": {},
   "outputs": [],
   "source": [
    "b2 = clear_board()\n",
    "while (not game_over(b2)):\n",
    "    give_board(b2)\n",
    "    Xturn(b2)\n",
    "    give_board(b2)\n",
    "    Oturn(b2)\n",
    "\n",
    "#I need to make it so that the new give_board replaces the old one"
   ]
  },
  {
   "cell_type": "code",
   "execution_count": null,
   "metadata": {},
   "outputs": [],
   "source": [
    "#count amount of turns and if its to many that someone had to win then stop the while loop"
   ]
  }
 ],
 "metadata": {
  "kernelspec": {
   "display_name": "Python 3.9.12 ('base')",
   "language": "python",
   "name": "python3"
  },
  "language_info": {
   "codemirror_mode": {
    "name": "ipython",
    "version": 3
   },
   "file_extension": ".py",
   "mimetype": "text/x-python",
   "name": "python",
   "nbconvert_exporter": "python",
   "pygments_lexer": "ipython3",
   "version": "3.9.12"
  },
  "orig_nbformat": 4,
  "vscode": {
   "interpreter": {
    "hash": "6a5e55def17b26e2ceed44658a3f1130fe9382ee58c1ac637d935f01a167c55c"
   }
  }
 },
 "nbformat": 4,
 "nbformat_minor": 2
}
